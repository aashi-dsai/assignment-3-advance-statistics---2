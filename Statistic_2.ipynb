{
  "nbformat": 4,
  "nbformat_minor": 0,
  "metadata": {
    "colab": {
      "provenance": []
    },
    "kernelspec": {
      "name": "python3",
      "display_name": "Python 3"
    },
    "language_info": {
      "name": "python"
    }
  },
  "cells": [
    {
      "cell_type": "markdown",
      "source": [
        "** THEORETICAL QUESTIONS**"
      ],
      "metadata": {
        "id": "GcWj1N8lGFXF"
      }
    },
    {
      "cell_type": "markdown",
      "source": [
        "1. What is hypothesis testing in statistics?\n",
        "\n",
        "  Hypothesis testing is like making an educated guess and then using data to see if you're probably right or wrong. It’s a method to decide whether there's enough evidence in a sample to support a claim about a population."
      ],
      "metadata": {
        "id": "0yrKu4rhGcnm"
      }
    },
    {
      "cell_type": "markdown",
      "source": [
        "2. What is the null hypothesis, and how does it differ from the alternative hypothesis?\n",
        "\n",
        "* Null Hypothesis (H₀): This is the default belief — like “nothing has changed” or “there’s no effect.”\n",
        "\n",
        "* Alternative Hypothesis (H₁): This challenges the status quo — it claims something is different, or there is an effect."
      ],
      "metadata": {
        "id": "PCYK04u-GnOy"
      }
    },
    {
      "cell_type": "markdown",
      "source": [
        "3. What is the significance level in hypothesis testing, and why is it important?\n",
        "\n",
        "It's the cutoff point (often 0.05 or 5%) that helps you decide if your results are “rare” enough to reject the null hypothesis.\n",
        " It helps control the chance of making a wrong conclusion just by random luck.\n",
        "\n"
      ],
      "metadata": {
        "id": "y9MRM8kdG2od"
      }
    },
    {
      "cell_type": "markdown",
      "source": [
        "4. What does a P-value represent in hypothesis testing?\n",
        "\n",
        "A P-value tells you how likely your observed results are if the null hypothesis is true.\n",
        "\n",
        "* A small P-value (like < 0.05) means your results are unlikely by chance, so maybe H₀ isn't true."
      ],
      "metadata": {
        "id": "UIuzjA6RG9q_"
      }
    },
    {
      "cell_type": "markdown",
      "source": [
        "5. How do you interpret the P-value in hypothesis testing?\n",
        "* P ≤ 0.05 → Strong evidence against H₀ → likely reject H₀\n",
        "\n",
        "* P > 0.05 → Not enough evidence → don't reject H₀\n",
        "\n",
        "Think of it like this: the smaller the P-value, the more surprised we are if the null hypothesis were true.\n",
        "\n"
      ],
      "metadata": {
        "id": "EJ9fEUswHKuZ"
      }
    },
    {
      "cell_type": "markdown",
      "source": [
        "6. What are Type 1 and Type 2 errors in hypothesis testing?\n",
        "* Type I Error (False Positive): You wrongly reject H₀ when it's actually true. (Like saying medicine works when it doesn't.)\n",
        "\n",
        "* Type II Error (False Negative): You fail to reject H₀ when it's actually false. (Like saying medicine doesn't work when it actually does.)"
      ],
      "metadata": {
        "id": "OsKQrP6dIKOt"
      }
    },
    {
      "cell_type": "markdown",
      "source": [
        "7. What is the difference between a one-tailed and a two-tailed test?\n",
        "* One-tailed: You test in one direction (e.g., greater than or less than).\n",
        "\n",
        "* Two-tailed: You test in both directions (e.g., not equal to).\n",
        "\n",
        "Use two-tailed when you're just checking for any difference, and one-tailed when you're only interested in one specific direction.\n",
        "\n"
      ],
      "metadata": {
        "id": "7xSafN-OISdA"
      }
    },
    {
      "cell_type": "markdown",
      "source": [
        "8. What is the Z-test, and when is it used?\n",
        "The Z-test is used when:\n",
        "\n",
        "* You know the population standard deviation.\n",
        "\n",
        "* Your sample size is large (usually > 30).\n",
        "It checks if your sample mean is significantly different from a known population mean."
      ],
      "metadata": {
        "id": "zoz21tSSIYQX"
      }
    },
    {
      "cell_type": "markdown",
      "source": [
        "9. How do you calculate the Z-score, and what does it represent?\n",
        "\n",
        "Z = (X̄ - μ) / (σ / √n)\n",
        "Where:\n",
        "\n",
        "* X̄ = sample mean\n",
        "\n",
        "* μ = population mean\n",
        "\n",
        "* σ = population standard deviation\n",
        "\n",
        "*n = sample size\n",
        "  \n",
        "   It tells you how many standard deviations away your sample is from the population mean."
      ],
      "metadata": {
        "id": "6lDLupIYIdTi"
      }
    },
    {
      "cell_type": "markdown",
      "source": [
        "10. What is the T-distribution, and when should it be used instead of the normal distribution?\n",
        "\n",
        "Use the T-distribution when:\n",
        "\n",
        "* Your sample size is small (n < 30).\n",
        "\n",
        "* You don't know the population standard deviation.\n",
        "It's wider and more “forgiving” than the normal distribution."
      ],
      "metadata": {
        "id": "yPSEYuNwInPw"
      }
    },
    {
      "cell_type": "markdown",
      "source": [
        "11. What is the difference between a Z-test and a T-test?\n",
        "* Z-test: Known population standard deviation, large sample.\n",
        "\n",
        "* T-test: Unknown population standard deviation, small sample.\n",
        "They both compare means, but in different situations."
      ],
      "metadata": {
        "id": "ll4uFkIoIumC"
      }
    },
    {
      "cell_type": "markdown",
      "source": [
        "12. What is the T-test, and how is it used?\n",
        "\n",
        "A T-test checks if the mean of a sample is significantly different from:\n",
        "\n",
        "* A known value (one-sample T-test),\n",
        "\n",
        "* Another group (independent T-test),\n",
        "\n",
        "* Or before-after values (paired T-test)."
      ],
      "metadata": {
        "id": "H0zEJO8OIzQu"
      }
    },
    {
      "cell_type": "markdown",
      "source": [
        "13. What is the relationship between Z-test and T-test?\n",
        "\n",
        "Both are part of hypothesis testing for means:\n",
        "\n",
        "* As sample size increases, the T-distribution becomes closer to Z.\n",
        "\n",
        "* Use Z for large, known-σ samples. Use T when dealing with small or uncertain data."
      ],
      "metadata": {
        "id": "BnTzPV_KI5AN"
      }
    },
    {
      "cell_type": "markdown",
      "source": [
        "14. What is a confidence interval, and how is it used?\n",
        "\n",
        "A confidence interval (CI) gives a range of values where we believe the true population parameter lies.\n",
        "For example, a 95% CI of [40, 50] means:\n",
        "“We're 95% confident the true value lies between 40 and 50.”"
      ],
      "metadata": {
        "id": "avhaCtn3I949"
      }
    },
    {
      "cell_type": "markdown",
      "source": [
        "15. What is the margin of error, and how does it affect the confidence interval?\n",
        "\n",
        "It's the “plus or minus” in your estimate.\n",
        "\n",
        "Bigger margin = wider interval = less precise\n",
        "\n",
        "Smaller margin = narrower interval = more precise"
      ],
      "metadata": {
        "id": "WChWA-UeJBIR"
      }
    },
    {
      "cell_type": "markdown",
      "source": [
        "16. How is Bayes' Theorem used in statistics, and what is its significance?\n",
        "\n",
        "Bayes'  Theorem helps us update our beliefs based on new evidence.\n",
        "For example, it can help in medical testing:\n",
        "\n",
        "* You start with a prior probability (like disease rate)\n",
        "\n",
        "* Add test result\n",
        "\n",
        "* Get updated (posterior) probability of having the disease\n",
        "\n"
      ],
      "metadata": {
        "id": "E_2EJ4mBJENp"
      }
    },
    {
      "cell_type": "markdown",
      "source": [
        "17. What is the Chi-square distribution, and when is it used?\n",
        "\n",
        "The Chi-square (χ²) distribution is used for categorical data.\n",
        "It helps test whether observed counts are close to expected counts."
      ],
      "metadata": {
        "id": "Lm-ENBQCJwvn"
      }
    },
    {
      "cell_type": "markdown",
      "source": [
        "18. What is the Chi-square goodness of fit test, and how is it applied?\n",
        "\n",
        "It tests whether observed data matches expected proportions.\n",
        "Example: You expect equal number of red, green, blue candies. You count and check if reality matches expectation."
      ],
      "metadata": {
        "id": "6D6WnNUzJ04w"
      }
    },
    {
      "cell_type": "markdown",
      "source": [
        "19. What is the F-distribution, and when is it used in hypothesis testing?\n",
        "\n",
        "The F-distribution is used when comparing variances between two or more groups.\n",
        "It's a key part of the ANOVA test.\n",
        "\n"
      ],
      "metadata": {
        "id": "zRrBem4JJ-Bm"
      }
    },
    {
      "cell_type": "markdown",
      "source": [
        "20. What is an ANOVA test, and what are its assumptions?\n",
        "\n",
        "ANOVA (Analysis of Variance) checks whether 3 or more group means are significantly different.\n",
        "Assumptions:\n",
        "\n",
        "* Data is normally distributed.\n",
        "\n",
        "* Groups have equal variances.\n",
        "\n",
        "* Observations are independent.\n",
        "\n"
      ],
      "metadata": {
        "id": "d8DduMEsKOJ8"
      }
    },
    {
      "cell_type": "markdown",
      "source": [
        "21. What are the different types of ANOVA tests?\n",
        "\n",
        "* One-way ANOVA: 1 factor (e.g., test scores by teaching method)\n",
        "\n",
        "* Two-way ANOVA: 2 factors (e.g., test scores by teaching method and gender)\n",
        "\n",
        "* Repeated measures ANOVA: Same subjects tested multiple times.\n",
        "\n"
      ],
      "metadata": {
        "id": "12i_LSx1KVwJ"
      }
    },
    {
      "cell_type": "markdown",
      "source": [
        "22. What is the F-test, and how does it relate to hypothesis testing?\n",
        "\n",
        "The F-test is used to compare two variances.\n",
        "It's the test statistic used in ANOVA.\n",
        "If the F-value is large, it may mean at least one group mean is different."
      ],
      "metadata": {
        "id": "2v1o9tpKKeTR"
      }
    },
    {
      "cell_type": "markdown",
      "source": [
        "** PRACTICAL QUESTIONS**"
      ],
      "metadata": {
        "id": "CLq_4S5PKkpX"
      }
    },
    {
      "cell_type": "code",
      "source": [
        "# 1. Write a Python program to perform a Z-test for comparing a sample mean to a known population mean and interpret the results.\n",
        "\n",
        "import numpy as np\n",
        "from scipy import stats\n",
        "\n",
        "# Generate sample data\n",
        "np.random.seed(42)\n",
        "sample = np.random.normal(loc=50, scale=10, size=30)\n",
        "pop_mean = 52\n",
        "pop_std = 10\n",
        "\n",
        "# Perform Z-test\n",
        "sample_mean = np.mean(sample)\n",
        "z_score = (sample_mean - pop_mean) / (pop_std / np.sqrt(len(sample)))\n",
        "p_value = 2 * (1 - stats.norm.cdf(abs(z_score)))\n",
        "\n",
        "print(f\"Z-score: {z_score:.4f}, P-value: {p_value:.4f}\")\n",
        "if p_value < 0.05:\n",
        "    print(\"Reject H0: Significant difference exists\")\n",
        "else:\n",
        "    print(\"Fail to reject H0: No significant difference\")\n"
      ],
      "metadata": {
        "colab": {
          "base_uri": "https://localhost:8080/"
        },
        "id": "qtpJ9F1mKqec",
        "outputId": "649390ed-0ab6-4177-ff3b-6828afe917e5"
      },
      "execution_count": 3,
      "outputs": [
        {
          "output_type": "stream",
          "name": "stdout",
          "text": [
            "Z-score: -2.1260, P-value: 0.0335\n",
            "Reject H0: Significant difference exists\n"
          ]
        }
      ]
    },
    {
      "cell_type": "code",
      "source": [
        "# 2. Simulate random data to perform hypothesis testing and calculate the corresponding P-value using Python.\n",
        "\n",
        "import numpy as np\n",
        "from scipy import stats\n",
        "\n",
        "# Simulate data and test\n",
        "np.random.seed(42)\n",
        "sample = np.random.normal(loc=50, scale=10, size=100)\n",
        "pop_mean = 50\n",
        "\n",
        "z_score = (np.mean(sample) - pop_mean) / (np.std(sample)/np.sqrt(len(sample)))\n",
        "p_value = 2 * (1 - stats.norm.cdf(abs(z_score)))\n",
        "\n",
        "print(f\"Simulated P-value: {p_value:.4f}\")"
      ],
      "metadata": {
        "colab": {
          "base_uri": "https://localhost:8080/"
        },
        "id": "r38UcZLuL33o",
        "outputId": "d74e5c66-62e6-4d0f-f6db-4d8d8fcae8e2"
      },
      "execution_count": 4,
      "outputs": [
        {
          "output_type": "stream",
          "name": "stdout",
          "text": [
            "Simulated P-value: 0.2505\n"
          ]
        }
      ]
    },
    {
      "cell_type": "code",
      "source": [
        "# 3. Implement a one-sample Z-test using Python to compare the sample mean with the population mean.\n",
        "\n",
        "import numpy as np\n",
        "from scipy import stats\n",
        "\n",
        "def one_sample_ztest(sample, pop_mean, pop_std):\n",
        "    n = len(sample)\n",
        "    sample_mean = np.mean(sample)\n",
        "    z = (sample_mean - pop_mean) / (pop_std / np.sqrt(n))\n",
        "    p = 2 * (1 - stats.norm.cdf(abs(z)))\n",
        "    return z, p\n",
        "\n",
        "# Usage\n",
        "sample = np.random.normal(50, 10, 30)\n",
        "z, p = one_sample_ztest(sample, 52, 10)\n",
        "print(f\"Z-statistic: {z:.4f}, P-value: {p:.4f}\")"
      ],
      "metadata": {
        "colab": {
          "base_uri": "https://localhost:8080/"
        },
        "id": "O7A39ZwZMuy7",
        "outputId": "9397bfae-a754-48cd-b4f4-e94a119bf58f"
      },
      "execution_count": 5,
      "outputs": [
        {
          "output_type": "stream",
          "name": "stdout",
          "text": [
            "Z-statistic: -0.8063, P-value: 0.4201\n"
          ]
        }
      ]
    },
    {
      "cell_type": "code",
      "source": [
        "# 4. Perform a two-tailed Z-test using Python and visualize the decision region on a plot.\n",
        "\n",
        "import numpy as np\n",
        "import matplotlib.pyplot as plt\n",
        "from scipy import stats\n",
        "\n",
        "# Perform Z-test\n",
        "sample = np.random.normal(50, 10, 30)\n",
        "z_score = (np.mean(sample) - 52) / (10 / np.sqrt(30))\n",
        "p_value = 2 * (1 - stats.norm.cdf(abs(z_score)))\n",
        "\n",
        "# Visualization\n",
        "plt.figure(figsize=(10,6))\n",
        "x = np.linspace(-4, 4, 1000)\n",
        "plt.plot(x, stats.norm.pdf(x), 'k-')\n",
        "plt.axvline(z_score, color='b', linestyle='--', label=f'z = {z_score:.2f}')\n",
        "plt.axvline(1.96, color='r', alpha=0.5, label='Critical value (α=0.05)')\n",
        "plt.axvline(-1.96, color='r', alpha=0.5)\n",
        "plt.fill_between(x, stats.norm.pdf(x), where=(x >= 1.96), color='red', alpha=0.3, label='Rejection Region')\n",
        "plt.fill_between(x, stats.norm.pdf(x), where=(x <= -1.96), color='red', alpha=0.3)\n",
        "plt.title(f\"Two-tailed Z-test (p = {p_value:.4f})\")\n",
        "plt.legend()\n",
        "plt.show()"
      ],
      "metadata": {
        "colab": {
          "base_uri": "https://localhost:8080/",
          "height": 545
        },
        "id": "HCeN5Ji1Mzf-",
        "outputId": "29809561-41c8-49fb-d43f-8eb182b9387e"
      },
      "execution_count": 6,
      "outputs": [
        {
          "output_type": "display_data",
          "data": {
            "text/plain": [
              "<Figure size 1000x600 with 1 Axes>"
            ],
            "image/png": "[encoded data removed]"
          },
          "metadata": {}
        }
      ]
    },
    {
      "cell_type": "code",
      "source": [
        "#  5. Create a Python function that calculates and visualizes Type 1 and Type 2 errors during hypothesis testing.\n",
        "\n",
        "import numpy as np\n",
        "import matplotlib.pyplot as plt\n",
        "from scipy import stats\n",
        "\n",
        "# Parameters\n",
        "mu0, mu1 = 0, 1\n",
        "sigma = 1\n",
        "n = 30\n",
        "alpha = 0.05\n",
        "critical_value = stats.norm.ppf(1 - alpha/2)\n",
        "\n",
        "# Plot\n",
        "x = np.linspace(-4, 4, 1000)\n",
        "plt.figure(figsize=(10,6))\n",
        "plt.plot(x, stats.norm.pdf(x, mu0, sigma/np.sqrt(n)), label='H0')\n",
        "plt.plot(x, stats.norm.pdf(x, mu1, sigma/np.sqrt(n)), label='H1')\n",
        "\n",
        "# Type I error (Red)\n",
        "plt.fill_between(x, stats.norm.pdf(x, mu0, sigma/np.sqrt(n)),\n",
        "                 where=(x >= critical_value), color='red', alpha=0.3, label='Type I Error')\n",
        "plt.fill_between(x, stats.norm.pdf(x, mu0, sigma/np.sqrt(n)),\n",
        "                 where=(x <= -critical_value), color='red', alpha=0.3)\n",
        "\n",
        "# Type II error (Blue)\n",
        "plt.fill_between(x, stats.norm.pdf(x, mu1, sigma/np.sqrt(n)),\n",
        "                 where=((x >= -critical_value) & (x <= critical_value)),\n",
        "                 color='blue', alpha=0.3, label='Type II Error')\n",
        "\n",
        "plt.axvline(critical_value, color='r', linestyle='--')\n",
        "plt.axvline(-critical_value, color='r', linestyle='--')\n",
        "plt.legend()\n",
        "plt.title('Type I and Type II Errors')\n",
        "plt.show()\n"
      ],
      "metadata": {
        "colab": {
          "base_uri": "https://localhost:8080/",
          "height": 545
        },
        "id": "0lyU4bRrM6Ba",
        "outputId": "7256ce41-c167-4a2d-8737-28d73e287aa8"
      },
      "execution_count": 7,
      "outputs": [
        {
          "output_type": "display_data",
          "data": {
            "text/plain": [
              "<Figure size 1000x600 with 1 Axes>"
            ],
            "image/png": "[encoded data removed]"
          },
          "metadata": {}
        }
      ]
    },
    {
      "cell_type": "code",
      "source": [
        "# 6. Write a Python program to perform an independent T-test and interpret the results.\n",
        "\n",
        "import numpy as np\n",
        "from scipy import stats\n",
        "\n",
        "# Generate data\n",
        "group1 = np.random.normal(50, 10, 30)\n",
        "group2 = np.random.normal(55, 10, 30)\n",
        "\n",
        "# Independent t-test\n",
        "t_stat, p_value = stats.ttest_ind(group1, group2)\n",
        "\n",
        "print(f\"T-statistic: {t_stat:.4f}, P-value: {p_value:.4f}\")\n",
        "if p_value < 0.05:\n",
        "    print(\"Significant difference between groups\")\n",
        "else:\n",
        "    print(\"No significant difference\")\n"
      ],
      "metadata": {
        "colab": {
          "base_uri": "https://localhost:8080/"
        },
        "id": "i12Wqm2yNA02",
        "outputId": "7aa609b8-8211-41fc-b6aa-7384bf8ec37e"
      },
      "execution_count": 8,
      "outputs": [
        {
          "output_type": "stream",
          "name": "stdout",
          "text": [
            "T-statistic: -2.2383, P-value: 0.0291\n",
            "Significant difference between groups\n"
          ]
        }
      ]
    },
    {
      "cell_type": "code",
      "source": [
        "# 7. Perform a paired sample T-test using Python and visualize the comparison results.\n",
        "\n",
        "import numpy as np\n",
        "import matplotlib.pyplot as plt\n",
        "from scipy import stats\n",
        "\n",
        "# Generate paired data\n",
        "before = np.random.normal(50, 10, 30)\n",
        "after = before + np.random.normal(5, 3, 30)\n",
        "\n",
        "# Paired t-test\n",
        "t_stat, p_value = stats.ttest_rel(before, after)\n",
        "\n",
        "# Visualization\n",
        "plt.figure(figsize=(10,6))\n",
        "plt.plot([1]*30, before, 'bo', alpha=0.7, label='Before')\n",
        "plt.plot([2]*30, after, 'ro', alpha=0.7, label='After')\n",
        "for i in range(30):\n",
        "    plt.plot([1, 2], [before[i], after[i]], 'k-', alpha=0.3)\n",
        "plt.xlim(0.5, 2.5)\n",
        "plt.xticks([1,2], ['Before', 'After'])\n",
        "plt.title(f\"Paired T-test: p = {p_value:.4f}\")\n",
        "plt.legend()\n",
        "plt.show()\n"
      ],
      "metadata": {
        "colab": {
          "base_uri": "https://localhost:8080/",
          "height": 545
        },
        "id": "9OEgvwagNF4Q",
        "outputId": "72fbba94-df3d-4913-cb5f-3b7e74d0a83a"
      },
      "execution_count": 9,
      "outputs": [
        {
          "output_type": "display_data",
          "data": {
            "text/plain": [
              "<Figure size 1000x600 with 1 Axes>"
            ],
            "image/png": "[encoded data removed]"
          },
          "metadata": {}
        }
      ]
    },
    {
      "cell_type": "code",
      "source": [
        "# 8. Simulate data and perform both Z-test and T-test, then compare the results using Python.\n",
        "\n",
        "import numpy as np\n",
        "from scipy import stats\n",
        "\n",
        "# Generate small sample\n",
        "sample = np.random.normal(50, 10, 15)\n",
        "pop_mean = 52\n",
        "pop_std = 10\n",
        "\n",
        "# Z-test\n",
        "z_score = (np.mean(sample) - pop_mean) / (pop_std / np.sqrt(len(sample)))\n",
        "z_p = 2 * (1 - stats.norm.cdf(abs(z_score)))\n",
        "\n",
        "# T-test\n",
        "t_stat, t_p = stats.ttest_1samp(sample, pop_mean)\n",
        "\n",
        "print(f\"Z-test: z = {z_score:.4f}, p = {z_p:.4f}\")\n",
        "print(f\"T-test: t = {t_stat:.4f}, p = {t_p:.4f}\")\n",
        "print(f\"Absolute difference: {abs(z_p - t_p):.4f}\")\n"
      ],
      "metadata": {
        "colab": {
          "base_uri": "https://localhost:8080/"
        },
        "id": "XGJjYmC7NRZh",
        "outputId": "ba5f7f54-39db-410f-c017-085c056946ab"
      },
      "execution_count": 10,
      "outputs": [
        {
          "output_type": "stream",
          "name": "stdout",
          "text": [
            "Z-test: z = -0.4349, p = 0.6637\n",
            "T-test: t = -0.4192, p = 0.6814\n",
            "Absolute difference: 0.0177\n"
          ]
        }
      ]
    },
    {
      "cell_type": "code",
      "source": [
        "# 9. Write a Python function to calculate the confidence interval for a sample mean and explain its significance.\n",
        "\n",
        "import numpy as np\n",
        "from scipy import stats\n",
        "\n",
        "def confidence_interval(data, confidence=0.95):\n",
        "    n = len(data)\n",
        "    mean = np.mean(data)\n",
        "    sem = stats.sem(data)\n",
        "    h = sem * stats.t.ppf((1 + confidence) / 2, n-1)\n",
        "    return (mean - h, mean + h)\n",
        "\n",
        "# Example\n",
        "data = np.random.normal(50, 10, 30)\n",
        "ci_low, ci_high = confidence_interval(data)\n",
        "print(f\"95% CI: ({ci_low:.2f}, {ci_high:.2f})\")\n",
        "print(\"Interpretation: 95% confident the true population mean is within this interval\")\n"
      ],
      "metadata": {
        "id": "6c71paTVNWxQ"
      },
      "execution_count": null,
      "outputs": []
    },
    {
      "cell_type": "code",
      "source": [
        "# 10. Write a Python program to calculate the margin of error for a given confidence level using sample data.\n",
        "\n",
        "import numpy as np\n",
        "from scipy import stats\n",
        "\n",
        "def margin_of_error(data, confidence=0.95):\n",
        "    n = len(data)\n",
        "    sem = stats.sem(data)\n",
        "    return sem * stats.t.ppf((1 + confidence) / 2, n-1)\n",
        "\n",
        "# Example\n",
        "data = np.random.normal(50, 10, 30)\n",
        "moe = margin_of_error(data)\n",
        "print(f\"Margin of Error: ±{moe:.2f} at 95% confidence\")\n"
      ],
      "metadata": {
        "id": "o8ge1vZPNbAX"
      },
      "execution_count": null,
      "outputs": []
    },
    {
      "cell_type": "code",
      "source": [
        "# 11. Implement a Bayesian inference method using Bayes' Theorem in Python and explain the process.\n",
        "\n",
        "def bayesian_inference(prior, likelihood, evidence):\n",
        "    posterior = (likelihood * prior) / evidence\n",
        "    return posterior\n",
        "\n",
        "# Medical test example\n",
        "prior = 0.01  # Disease prevalence\n",
        "likelihood = 0.95  # Test sensitivity\n",
        "evidence = (likelihood * prior) + (0.05 * (1 - prior))  # Total probability\n",
        "\n",
        "posterior = bayesian_inference(prior, likelihood, evidence)\n",
        "print(f\"Posterior probability: {posterior:.4f}\")\n",
        "print(\"Interpretation: Probability of having disease given positive test\")\n"
      ],
      "metadata": {
        "id": "1U_6UOWWNgD0"
      },
      "execution_count": null,
      "outputs": []
    },
    {
      "cell_type": "code",
      "source": [
        "# 12. Perform a Chi-square test for independence between two categorical variables in Python.\n",
        "\n",
        "import numpy as np\n",
        "from scipy.stats import chi2_contingency\n",
        "\n",
        "# Create contingency table\n",
        "observed = np.array([[30, 10], [15, 25]])\n",
        "\n",
        "# Chi-square test\n",
        "chi2, p, dof, expected = chi2_contingency(observed)\n",
        "\n",
        "print(f\"Chi2 statistic: {chi2:.4f}\")\n",
        "print(f\"P-value: {p:.4f}\")\n",
        "print(\"Expected frequencies:\")\n",
        "print(expected)\n"
      ],
      "metadata": {
        "id": "SP-Y6KSvNsBs"
      },
      "execution_count": null,
      "outputs": []
    },
    {
      "cell_type": "code",
      "source": [
        "# 13. Write a Python program to calculate the expected frequencies for a Chi-square test based on observed data.\n",
        "\n",
        "import numpy as np\n",
        "from scipy.stats import chi2_contingency\n",
        "\n",
        "def expected_frequencies(observed):\n",
        "    chi2, p, dof, expected = chi2_contingency(observed)\n",
        "    return expected\n",
        "\n",
        "# Example\n",
        "observed = np.array([[40, 20], [30, 30]])\n",
        "expected = expected_frequencies(observed)\n",
        "print(\"Observed:\")\n",
        "print(observed)\n",
        "print(\"\\nExpected:\")\n",
        "print(expected)\n"
      ],
      "metadata": {
        "id": "MWthWXLYNz0Z"
      },
      "execution_count": null,
      "outputs": []
    },
    {
      "cell_type": "code",
      "source": [
        "# 14. Perform a goodness-of-fit test using Python to compare the observed data to an expected distribution.\n",
        "\n",
        "import numpy as np\n",
        "from scipy.stats import chisquare\n",
        "\n",
        "# Observed frequencies\n",
        "observed = np.array([25, 30, 22, 23])\n",
        "expected = np.array([25, 25, 25, 25])  # Uniform distribution\n",
        "\n",
        "# Chi-square test\n",
        "chi2, p = chisquare(observed, expected)\n",
        "\n",
        "print(f\"Chi2 statistic: {chi2:.4f}\")\n",
        "print(f\"P-value: {p:.4f}\")\n",
        "print(\"Data fits expected distribution\" if p > 0.05 else \"Data doesn't fit expected distribution\")\n"
      ],
      "metadata": {
        "id": "C546wu-_N6mv"
      },
      "execution_count": null,
      "outputs": []
    },
    {
      "cell_type": "code",
      "source": [
        "# 15. Create a Python script to simulate and visualize the Chi-square distribution and discuss its characteristics.\n",
        "\n",
        "import numpy as np\n",
        "import matplotlib.pyplot as plt\n",
        "from scipy.stats import chi2\n",
        "\n",
        "# Plot chi-square distributions\n",
        "x = np.linspace(0, 15, 1000)\n",
        "df_values = [1, 2, 3, 5, 10]\n",
        "\n",
        "plt.figure(figsize=(10,6))\n",
        "for df in df_values:\n",
        "    plt.plot(x, chi2.pdf(x, df), label=f'df={df}')\n",
        "\n",
        "plt.title('Chi-square Distribution')\n",
        "plt.xlabel('Value')\n",
        "plt.ylabel('Probability Density')\n",
        "plt.legend()\n",
        "plt.show()\n"
      ],
      "metadata": {
        "id": "K5h33sZNOD0E"
      },
      "execution_count": null,
      "outputs": []
    },
    {
      "cell_type": "code",
      "source": [
        "# 16.  Implement an F-test using Python to compare the variances of two random samples.\n",
        "\n",
        "import numpy as np\n",
        "from scipy.stats import f\n",
        "\n",
        "# Generate data\n",
        "group1 = np.random.normal(50, 10, 30)\n",
        "group2 = np.random.normal(50, 15, 30)\n",
        "\n",
        "# F-test\n",
        "var1 = np.var(group1, ddof=1)\n",
        "var2 = np.var(group2, ddof=1)\n",
        "f_stat = var1 / var2 if var1 > var2 else var2 / var1\n",
        "df1 = len(group1) - 1\n",
        "df2 = len(group2) - 1\n",
        "p_value = 2 * min(f.cdf(f_stat, df1, df2), 1 - f.cdf(f_stat, df1, df2))\n",
        "\n",
        "print(f\"F-statistic: {f_stat:.4f}\")\n",
        "print(f\"P-value: {p_value:.4f}\")\n"
      ],
      "metadata": {
        "id": "jwRqPeiuOYLc"
      },
      "execution_count": null,
      "outputs": []
    },
    {
      "cell_type": "code",
      "source": [
        "# 17. Write a Python program to perform an ANOVA test to compare means between multiple groups and interpret the results.\n",
        "\n",
        "import numpy as np\n",
        "from scipy.stats import f_oneway\n",
        "\n",
        "# Generate data\n",
        "group1 = np.random.normal(50, 10, 30)\n",
        "group2 = np.random.normal(55, 10, 30)\n",
        "group3 = np.random.normal(52, 10, 30)\n",
        "\n",
        "# One-way ANOVA\n",
        "f_stat, p_value = f_oneway(group1, group2, group3)\n",
        "\n",
        "print(f\"F-statistic: {f_stat:.4f}\")\n",
        "print(f\"P-value: {p_value:.4f}\")\n",
        "if p_value < 0.05:\n",
        "    print(\"Significant difference between groups\")\n",
        "else:\n",
        "    print(\"No significant difference\")\n"
      ],
      "metadata": {
        "id": "5nWG7ldqOd3B"
      },
      "execution_count": null,
      "outputs": []
    },
    {
      "cell_type": "code",
      "source": [
        "# 18. Perform a one-way ANOVA test using Python to compare the means of different groups and plot the results.\n",
        "\n",
        "import numpy as np\n",
        "import matplotlib.pyplot as plt\n",
        "from scipy.stats import f_oneway\n",
        "\n",
        "# Generate data\n",
        "data = [np.random.normal(50, 10, 30),\n",
        "        np.random.normal(55, 10, 30),\n",
        "        np.random.normal(52, 10, 30)]\n",
        "\n",
        "# ANOVA\n",
        "f_stat, p_value = f_oneway(*data)\n",
        "\n",
        "# Boxplot\n",
        "plt.figure(figsize=(10,6))\n",
        "plt.boxplot(data)\n",
        "plt.xticks([1,2,3], ['Group 1', 'Group 2', 'Group 3'])\n",
        "plt.title(f\"ANOVA: F = {f_stat:.2f}, p = {p_value:.4f}\")\n",
        "plt.ylabel('Values')\n",
        "plt.show()\n"
      ],
      "metadata": {
        "id": "AjFxlJ0AOipy"
      },
      "execution_count": null,
      "outputs": []
    },
    {
      "cell_type": "code",
      "source": [
        "# 19. Write a Python function to check the assumptions (normality, independence, and equal variance) for ANOVA.\n",
        "\n",
        "import numpy as np\n",
        "from scipy.stats import shapiro, levene\n",
        "\n",
        "def check_anova_assumptions(*groups):\n",
        "    # Normality (Shapiro-Wilk)\n",
        "    normality = [shapiro(group)[1] > 0.05 for group in groups]\n",
        "\n",
        "    # Homogeneity of variances (Levene's test)\n",
        "    _, levene_p = levene(*groups)\n",
        "    equal_variance = levene_p > 0.05\n",
        "\n",
        "    return normality, equal_variance\n",
        "\n",
        "# Example\n",
        "group1 = np.random.normal(50, 10, 30)\n",
        "group2 = np.random.normal(55, 10, 30)\n",
        "group3 = np.random.normal(52, 10, 30)\n",
        "\n",
        "normality, equal_var = check_anova_assumptions(group1, group2, group3)\n",
        "print(\"Normality results:\", normality)\n",
        "print(\"Equal variances:\", equal_var)\n"
      ],
      "metadata": {
        "id": "vdU1qm1YOn3X"
      },
      "execution_count": null,
      "outputs": []
    },
    {
      "cell_type": "code",
      "source": [
        "# 20. Perform a two-way ANOVA test using Python to study the interaction between two factors and visualize the results.\n",
        "\n",
        "import pandas as pd\n",
        "import statsmodels.api as sm\n",
        "from statsmodels.formula.api import ols\n",
        "\n",
        "# Create dataset\n",
        "data = pd.DataFrame({\n",
        "    'y': np.concatenate([np.random.normal(50, 10, 30),\n",
        "                         np.random.normal(55, 10, 30),\n",
        "                         np.random.normal(52, 10, 30),\n",
        "                         np.random.normal(58, 10, 30)]),\n",
        "    'factor1': np.repeat(['A', 'B'], 60),\n",
        "    'factor2': np.tile(np.repeat(['X', 'Y'], 30), 2)\n",
        "})\n",
        "\n",
        "# Two-way ANOVA\n",
        "model = ols('y ~ C(factor1) + C(factor2) + C(factor1):C(factor2)', data=data).fit()\n",
        "anova_table = sm.stats.anova_lm(model, typ=2)\n",
        "\n",
        "print(anova_table)\n"
      ],
      "metadata": {
        "id": "RsbHqAqUOs_A"
      },
      "execution_count": null,
      "outputs": []
    },
    {
      "cell_type": "code",
      "source": [
        "# 21. Write a Python program to visualize the F-distribution and discuss its use in hypothesis testing.\n",
        "\n",
        "import numpy as np\n",
        "import matplotlib.pyplot as plt\n",
        "from scipy.stats import f\n",
        "\n",
        "# Plot F-distributions\n",
        "x = np.linspace(0, 5, 1000)\n",
        "df_pairs = [(5, 5), (10, 10), (15, 15)]\n",
        "\n",
        "plt.figure(figsize=(10,6))\n",
        "for df1, df2 in df_pairs:\n",
        "    plt.plot(x, f.pdf(x, df1, df2), label=f'df1={df1}, df2={df2}')\n",
        "\n",
        "plt.title('F-distribution')\n",
        "plt.xlabel('Value')\n",
        "plt.ylabel('Probability Density')\n",
        "plt.legend()\n",
        "plt.show()"
      ],
      "metadata": {
        "id": "FMb205K_O3YF"
      },
      "execution_count": null,
      "outputs": []
    },
    {
      "cell_type": "code",
      "source": [
        "# 22. Perform a hypothesis test for population variance using a Chi-square distribution and interpret the results.\n",
        "\n",
        "import numpy as np\n",
        "from scipy.stats import chi2\n",
        "\n",
        "# Generate data\n",
        "sample = np.random.normal(50, 10, 30)\n",
        "pop_variance = 100\n",
        "\n",
        "# Chi-square test for variance\n",
        "n = len(sample)\n",
        "sample_variance = np.var(sample, ddof=1)\n",
        "chi_stat = (n - 1) * sample_variance / pop_variance\n",
        "p_value = 2 * min(chi2.cdf(chi_stat, n-1), 1 - chi2.cdf(chi_stat, n-1))\n",
        "\n",
        "print(f\"Chi2 statistic: {chi_stat:.4f}\")\n",
        "print(f\"P-value: {p_value:.4f}\")\n"
      ],
      "metadata": {
        "id": "yVBjWEDvO8FY"
      },
      "execution_count": null,
      "outputs": []
    },
    {
      "cell_type": "code",
      "source": [
        "# 23. Write a Python script to perform a Z-test for comparing proportions between two datasets or groups.\n",
        "\n",
        "import numpy as np\n",
        "from statsmodels.stats.proportion import proportions_ztest\n",
        "\n",
        "# Generate data\n",
        "successes = np.array([45, 55])\n",
        "trials = np.array([100, 100])\n",
        "\n",
        "# Z-test for proportions\n",
        "z_stat, p_value = proportions_ztest(successes, trials)\n",
        "\n",
        "print(f\"Z-statistic: {z_stat:.4f}\")\n",
        "print(f\"P-value: {p_value:.4f}\")\n"
      ],
      "metadata": {
        "id": "lAh5xUxpPLS0"
      },
      "execution_count": null,
      "outputs": []
    },
    {
      "cell_type": "code",
      "source": [
        "# 24. Implement an F-test for comparing the variances of two datasets, then interpret and visualize the results.\n",
        "\n",
        "import numpy as np\n",
        "import matplotlib.pyplot as plt\n",
        "from scipy.stats import f\n",
        "\n",
        "# Generate data\n",
        "group1 = np.random.normal(50, 10, 30)\n",
        "group2 = np.random.normal(50, 15, 30)\n",
        "\n",
        "# F-statistic\n",
        "f_stat = np.var(group1, ddof=1) / np.var(group2, ddof=1)\n",
        "\n",
        "# Visualization\n",
        "x = np.linspace(0, 3, 1000)\n",
        "df1 = len(group1) - 1\n",
        "df2 = len(group2) - 1\n",
        "plt.plot(x, f.pdf(x, df1, df2))\n",
        "plt.axvline(f_stat, color='r', linestyle='--', label=f'F = {f_stat:.2f}')\n",
        "plt.title('F-distribution with Test Statistic')\n",
        "plt.legend()\n",
        "plt.show()\n"
      ],
      "metadata": {
        "id": "Lsh1gModPOwK"
      },
      "execution_count": null,
      "outputs": []
    },
    {
      "cell_type": "code",
      "source": [
        "# 25. Perform a Chi-square test for goodness of fit with simulated data and analyze the results.\n",
        "\n",
        "import numpy as np\n",
        "from scipy.stats import chisquare\n",
        "\n",
        "# Simulate data\n",
        "observed = np.random.multinomial(100, [0.2, 0.3, 0.5])\n",
        "expected = np.array([20, 30, 50])\n",
        "\n",
        "# Goodness-of-fit test\n",
        "chi2, p = chisquare(observed, expected)\n",
        "\n",
        "print(\"Observed:\", observed)\n",
        "print(\"Expected:\", expected)\n",
        "print(f\"Chi2 statistic: {chi2:.4f}\")\n",
        "print(f\"P-value: {p:.4f}\")\n"
      ],
      "metadata": {
        "id": "mflmRgMKPUej"
      },
      "execution_count": null,
      "outputs": []
    },
    {
      "cell_type": "code",
      "source": [
        "# 26. Write a Python program to visualize the F-distribution and discuss its use in hypothesis testing.\n",
        "\n",
        "import numpy as np\n",
        "import matplotlib.pyplot as plt\n",
        "from scipy.stats import f\n",
        "\n",
        "# Parameters\n",
        "df1, df2 = 5, 20\n",
        "alpha = 0.05\n",
        "critical_value = f.ppf(1 - alpha, df1, df2)\n",
        "\n",
        "# Plot\n",
        "x = np.linspace(0, 5, 1000)\n",
        "plt.figure(figsize=(10,6))\n",
        "plt.plot(x, f.pdf(x, df1, df2))\n",
        "plt.fill_between(x, f.pdf(x, df1, df2), where=(x > critical_value),\n",
        "                 color='red', alpha=0.5, label='Rejection Region')\n",
        "plt.axvline(critical_value, color='r', linestyle='--', label=f'Critical Value = {critical_value:.2f}')\n",
        "plt.title(f'F-distribution (df1={df1}, df2={df2})')\n",
        "plt.legend()\n",
        "plt.show()\n"
      ],
      "metadata": {
        "id": "Upt9M7tyPbWJ"
      },
      "execution_count": null,
      "outputs": []
    },
    {
      "cell_type": "code",
      "source": [
        "# 27. Simulate random data from a normal distribution, then perform hypothesis testing to evaluate the means.\n",
        "\n",
        "import numpy as np\n",
        "from scipy import stats\n",
        "\n",
        "# Simulate normal data\n",
        "data = np.random.normal(50, 10, 100)\n",
        "\n",
        "# Hypothesis test for mean\n",
        "t_stat, p_value = stats.ttest_1samp(data, 52)\n",
        "\n",
        "print(f\"T-statistic: {t_stat:.4f}\")\n",
        "print(f\"P-value: {p_value:.4f}\")\n",
        "print(\"Reject null hypothesis\" if p_value < 0.05 else \"Fail to reject null hypothesis\")\n"
      ],
      "metadata": {
        "colab": {
          "base_uri": "https://localhost:8080/"
        },
        "id": "hBy6HZzMPhf2",
        "outputId": "35c52376-d6f3-4898-9c52-db0ee329d5f2"
      },
      "execution_count": 11,
      "outputs": [
        {
          "output_type": "stream",
          "name": "stdout",
          "text": [
            "T-statistic: -0.8920\n",
            "P-value: 0.3746\n",
            "Fail to reject null hypothesis\n"
          ]
        }
      ]
    }
  ]
}